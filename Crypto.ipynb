{
 "cells": [
  {
   "cell_type": "code",
   "execution_count": 2,
   "id": "6f2b1c29",
   "metadata": {},
   "outputs": [
    {
     "data": {
      "text/html": [
       "<div>\n",
       "<style scoped>\n",
       "    .dataframe tbody tr th:only-of-type {\n",
       "        vertical-align: middle;\n",
       "    }\n",
       "\n",
       "    .dataframe tbody tr th {\n",
       "        vertical-align: top;\n",
       "    }\n",
       "\n",
       "    .dataframe thead th {\n",
       "        text-align: right;\n",
       "    }\n",
       "</style>\n",
       "<table border=\"1\" class=\"dataframe\">\n",
       "  <thead>\n",
       "    <tr style=\"text-align: right;\">\n",
       "      <th></th>\n",
       "      <th>Unnamed: 0</th>\n",
       "      <th>Name</th>\n",
       "      <th>Price</th>\n",
       "      <th>Change</th>\n",
       "      <th>MarketCap</th>\n",
       "      <th>Volume24</th>\n",
       "      <th>Supply</th>\n",
       "    </tr>\n",
       "  </thead>\n",
       "  <tbody>\n",
       "    <tr>\n",
       "      <th>0</th>\n",
       "      <td>0</td>\n",
       "      <td>Ethereum USD</td>\n",
       "      <td>2,504.25</td>\n",
       "      <td>-272.520000</td>\n",
       "      <td>291B</td>\n",
       "      <td>34.171B</td>\n",
       "      <td>116.202M</td>\n",
       "    </tr>\n",
       "    <tr>\n",
       "      <th>1</th>\n",
       "      <td>1</td>\n",
       "      <td>BinanceCoin USD</td>\n",
       "      <td>348.73</td>\n",
       "      <td>-51.370000</td>\n",
       "      <td>53.507B</td>\n",
       "      <td>3.442B</td>\n",
       "      <td>153.433M</td>\n",
       "    </tr>\n",
       "    <tr>\n",
       "      <th>2</th>\n",
       "      <td>2</td>\n",
       "      <td>Dogecoin USD</td>\n",
       "      <td>0.324729</td>\n",
       "      <td>-0.049927</td>\n",
       "      <td>42.191B</td>\n",
       "      <td>3.609B</td>\n",
       "      <td>129.925B</td>\n",
       "    </tr>\n",
       "    <tr>\n",
       "      <th>3</th>\n",
       "      <td>3</td>\n",
       "      <td>USDCoin USD</td>\n",
       "      <td>1.0003</td>\n",
       "      <td>0.000100</td>\n",
       "      <td>23.058B</td>\n",
       "      <td>2.317B</td>\n",
       "      <td>23.052B</td>\n",
       "    </tr>\n",
       "    <tr>\n",
       "      <th>4</th>\n",
       "      <td>4</td>\n",
       "      <td>Uniswap USD</td>\n",
       "      <td>23.37</td>\n",
       "      <td>-3.020000</td>\n",
       "      <td>13.441B</td>\n",
       "      <td>518.682M</td>\n",
       "      <td>575.107M</td>\n",
       "    </tr>\n",
       "    <tr>\n",
       "      <th>5</th>\n",
       "      <td>5</td>\n",
       "      <td>BitcoinCash USD</td>\n",
       "      <td>581.84</td>\n",
       "      <td>-82.910000</td>\n",
       "      <td>10.914B</td>\n",
       "      <td>2.257B</td>\n",
       "      <td>18.758M</td>\n",
       "    </tr>\n",
       "    <tr>\n",
       "      <th>6</th>\n",
       "      <td>6</td>\n",
       "      <td>Chainlink USD</td>\n",
       "      <td>24.00</td>\n",
       "      <td>-4.270000</td>\n",
       "      <td>10.344B</td>\n",
       "      <td>1.566B</td>\n",
       "      <td>431.01M</td>\n",
       "    </tr>\n",
       "    <tr>\n",
       "      <th>7</th>\n",
       "      <td>7</td>\n",
       "      <td>HEX USD</td>\n",
       "      <td>0.056874</td>\n",
       "      <td>-0.003244</td>\n",
       "      <td>9.863B</td>\n",
       "      <td>25.728M</td>\n",
       "      <td>173.411B</td>\n",
       "    </tr>\n",
       "    <tr>\n",
       "      <th>8</th>\n",
       "      <td>8</td>\n",
       "      <td>THETA USD</td>\n",
       "      <td>8.7223</td>\n",
       "      <td>-0.474200</td>\n",
       "      <td>8.722B</td>\n",
       "      <td>790.173M</td>\n",
       "      <td>1B</td>\n",
       "    </tr>\n",
       "    <tr>\n",
       "      <th>9</th>\n",
       "      <td>9</td>\n",
       "      <td>VeChain USD</td>\n",
       "      <td>0.110606</td>\n",
       "      <td>-0.019213</td>\n",
       "      <td>7.114B</td>\n",
       "      <td>1.136B</td>\n",
       "      <td>64.316B</td>\n",
       "    </tr>\n",
       "    <tr>\n",
       "      <th>10</th>\n",
       "      <td>10</td>\n",
       "      <td>FilecoinFutures USD</td>\n",
       "      <td>75.86</td>\n",
       "      <td>-14.030000</td>\n",
       "      <td>5.881B</td>\n",
       "      <td>1.449B</td>\n",
       "      <td>77.533M</td>\n",
       "    </tr>\n",
       "    <tr>\n",
       "      <th>11</th>\n",
       "      <td>11</td>\n",
       "      <td>EOS USD</td>\n",
       "      <td>4.9811</td>\n",
       "      <td>-0.935900</td>\n",
       "      <td>4.752B</td>\n",
       "      <td>1.908B</td>\n",
       "      <td>954.064M</td>\n",
       "    </tr>\n",
       "  </tbody>\n",
       "</table>\n",
       "</div>"
      ],
      "text/plain": [
       "    Unnamed: 0                 Name     Price      Change MarketCap  Volume24  \\\n",
       "0            0         Ethereum USD  2,504.25 -272.520000      291B   34.171B   \n",
       "1            1      BinanceCoin USD    348.73  -51.370000   53.507B    3.442B   \n",
       "2            2         Dogecoin USD  0.324729   -0.049927   42.191B    3.609B   \n",
       "3            3          USDCoin USD    1.0003    0.000100   23.058B    2.317B   \n",
       "4            4          Uniswap USD     23.37   -3.020000   13.441B  518.682M   \n",
       "5            5      BitcoinCash USD    581.84  -82.910000   10.914B    2.257B   \n",
       "6            6        Chainlink USD     24.00   -4.270000   10.344B    1.566B   \n",
       "7            7              HEX USD  0.056874   -0.003244    9.863B   25.728M   \n",
       "8            8            THETA USD    8.7223   -0.474200    8.722B  790.173M   \n",
       "9            9          VeChain USD  0.110606   -0.019213    7.114B    1.136B   \n",
       "10          10  FilecoinFutures USD     75.86  -14.030000    5.881B    1.449B   \n",
       "11          11              EOS USD    4.9811   -0.935900    4.752B    1.908B   \n",
       "\n",
       "      Supply  \n",
       "0   116.202M  \n",
       "1   153.433M  \n",
       "2   129.925B  \n",
       "3    23.052B  \n",
       "4   575.107M  \n",
       "5    18.758M  \n",
       "6    431.01M  \n",
       "7   173.411B  \n",
       "8         1B  \n",
       "9    64.316B  \n",
       "10   77.533M  \n",
       "11  954.064M  "
      ]
     },
     "execution_count": 2,
     "metadata": {},
     "output_type": "execute_result"
    }
   ],
   "source": [
    "import pandas as pd\n",
    "df = pd.read_csv('Crypto.csv')\n",
    "df"
   ]
  },
  {
   "cell_type": "markdown",
   "id": "5df4d330",
   "metadata": {},
   "source": [
    "## Dropping NA values\n",
    "## Filling NA values to something else\n",
    "## Check whether there is any NA values"
   ]
  },
  {
   "cell_type": "code",
   "execution_count": 13,
   "id": "9c36ef35",
   "metadata": {
    "collapsed": true
   },
   "outputs": [
    {
     "data": {
      "text/html": [
       "<div>\n",
       "<style scoped>\n",
       "    .dataframe tbody tr th:only-of-type {\n",
       "        vertical-align: middle;\n",
       "    }\n",
       "\n",
       "    .dataframe tbody tr th {\n",
       "        vertical-align: top;\n",
       "    }\n",
       "\n",
       "    .dataframe thead th {\n",
       "        text-align: right;\n",
       "    }\n",
       "</style>\n",
       "<table border=\"1\" class=\"dataframe\">\n",
       "  <thead>\n",
       "    <tr style=\"text-align: right;\">\n",
       "      <th></th>\n",
       "      <th>Unnamed: 0</th>\n",
       "      <th>Name</th>\n",
       "      <th>Price</th>\n",
       "      <th>Change</th>\n",
       "      <th>MarketCap</th>\n",
       "      <th>Volume24</th>\n",
       "      <th>Supply</th>\n",
       "    </tr>\n",
       "  </thead>\n",
       "  <tbody>\n",
       "    <tr>\n",
       "      <th>0</th>\n",
       "      <td>0</td>\n",
       "      <td>Ethereum USD</td>\n",
       "      <td>2,504.25</td>\n",
       "      <td>-272.520000</td>\n",
       "      <td>291B</td>\n",
       "      <td>34.171B</td>\n",
       "      <td>116.202M</td>\n",
       "    </tr>\n",
       "    <tr>\n",
       "      <th>1</th>\n",
       "      <td>1</td>\n",
       "      <td>BinanceCoin USD</td>\n",
       "      <td>348.73</td>\n",
       "      <td>-51.370000</td>\n",
       "      <td>53.507B</td>\n",
       "      <td>3.442B</td>\n",
       "      <td>153.433M</td>\n",
       "    </tr>\n",
       "    <tr>\n",
       "      <th>2</th>\n",
       "      <td>2</td>\n",
       "      <td>Dogecoin USD</td>\n",
       "      <td>0.324729</td>\n",
       "      <td>-0.049927</td>\n",
       "      <td>42.191B</td>\n",
       "      <td>3.609B</td>\n",
       "      <td>129.925B</td>\n",
       "    </tr>\n",
       "    <tr>\n",
       "      <th>3</th>\n",
       "      <td>3</td>\n",
       "      <td>USDCoin USD</td>\n",
       "      <td>1.0003</td>\n",
       "      <td>0.000100</td>\n",
       "      <td>23.058B</td>\n",
       "      <td>2.317B</td>\n",
       "      <td>23.052B</td>\n",
       "    </tr>\n",
       "    <tr>\n",
       "      <th>4</th>\n",
       "      <td>4</td>\n",
       "      <td>Uniswap USD</td>\n",
       "      <td>23.37</td>\n",
       "      <td>-3.020000</td>\n",
       "      <td>13.441B</td>\n",
       "      <td>518.682M</td>\n",
       "      <td>575.107M</td>\n",
       "    </tr>\n",
       "    <tr>\n",
       "      <th>5</th>\n",
       "      <td>5</td>\n",
       "      <td>BitcoinCash USD</td>\n",
       "      <td>581.84</td>\n",
       "      <td>-82.910000</td>\n",
       "      <td>10.914B</td>\n",
       "      <td>2.257B</td>\n",
       "      <td>18.758M</td>\n",
       "    </tr>\n",
       "    <tr>\n",
       "      <th>6</th>\n",
       "      <td>6</td>\n",
       "      <td>Chainlink USD</td>\n",
       "      <td>24.00</td>\n",
       "      <td>-4.270000</td>\n",
       "      <td>10.344B</td>\n",
       "      <td>1.566B</td>\n",
       "      <td>431.01M</td>\n",
       "    </tr>\n",
       "    <tr>\n",
       "      <th>7</th>\n",
       "      <td>7</td>\n",
       "      <td>HEX USD</td>\n",
       "      <td>0.056874</td>\n",
       "      <td>-0.003244</td>\n",
       "      <td>9.863B</td>\n",
       "      <td>25.728M</td>\n",
       "      <td>173.411B</td>\n",
       "    </tr>\n",
       "    <tr>\n",
       "      <th>8</th>\n",
       "      <td>8</td>\n",
       "      <td>THETA USD</td>\n",
       "      <td>8.7223</td>\n",
       "      <td>-0.474200</td>\n",
       "      <td>8.722B</td>\n",
       "      <td>790.173M</td>\n",
       "      <td>1B</td>\n",
       "    </tr>\n",
       "    <tr>\n",
       "      <th>9</th>\n",
       "      <td>9</td>\n",
       "      <td>VeChain USD</td>\n",
       "      <td>0.110606</td>\n",
       "      <td>-0.019213</td>\n",
       "      <td>7.114B</td>\n",
       "      <td>1.136B</td>\n",
       "      <td>64.316B</td>\n",
       "    </tr>\n",
       "    <tr>\n",
       "      <th>10</th>\n",
       "      <td>10</td>\n",
       "      <td>FilecoinFutures USD</td>\n",
       "      <td>75.86</td>\n",
       "      <td>-14.030000</td>\n",
       "      <td>5.881B</td>\n",
       "      <td>1.449B</td>\n",
       "      <td>77.533M</td>\n",
       "    </tr>\n",
       "    <tr>\n",
       "      <th>11</th>\n",
       "      <td>11</td>\n",
       "      <td>EOS USD</td>\n",
       "      <td>4.9811</td>\n",
       "      <td>-0.935900</td>\n",
       "      <td>4.752B</td>\n",
       "      <td>1.908B</td>\n",
       "      <td>954.064M</td>\n",
       "    </tr>\n",
       "  </tbody>\n",
       "</table>\n",
       "</div>"
      ],
      "text/plain": [
       "    Unnamed: 0                 Name     Price      Change MarketCap  Volume24  \\\n",
       "0            0         Ethereum USD  2,504.25 -272.520000      291B   34.171B   \n",
       "1            1      BinanceCoin USD    348.73  -51.370000   53.507B    3.442B   \n",
       "2            2         Dogecoin USD  0.324729   -0.049927   42.191B    3.609B   \n",
       "3            3          USDCoin USD    1.0003    0.000100   23.058B    2.317B   \n",
       "4            4          Uniswap USD     23.37   -3.020000   13.441B  518.682M   \n",
       "5            5      BitcoinCash USD    581.84  -82.910000   10.914B    2.257B   \n",
       "6            6        Chainlink USD     24.00   -4.270000   10.344B    1.566B   \n",
       "7            7              HEX USD  0.056874   -0.003244    9.863B   25.728M   \n",
       "8            8            THETA USD    8.7223   -0.474200    8.722B  790.173M   \n",
       "9            9          VeChain USD  0.110606   -0.019213    7.114B    1.136B   \n",
       "10          10  FilecoinFutures USD     75.86  -14.030000    5.881B    1.449B   \n",
       "11          11              EOS USD    4.9811   -0.935900    4.752B    1.908B   \n",
       "\n",
       "      Supply  \n",
       "0   116.202M  \n",
       "1   153.433M  \n",
       "2   129.925B  \n",
       "3    23.052B  \n",
       "4   575.107M  \n",
       "5    18.758M  \n",
       "6    431.01M  \n",
       "7   173.411B  \n",
       "8         1B  \n",
       "9    64.316B  \n",
       "10   77.533M  \n",
       "11  954.064M  "
      ]
     },
     "execution_count": 13,
     "metadata": {},
     "output_type": "execute_result"
    }
   ],
   "source": [
    "df.dropna(how=\"any\")\n",
    "df.fillna(value=0)\n",
    "pd.isna(data)"
   ]
  },
  {
   "cell_type": "markdown",
   "id": "a4d829e8",
   "metadata": {},
   "source": [
    "## Dropping the first column"
   ]
  },
  {
   "cell_type": "code",
   "execution_count": 20,
   "id": "1361620b",
   "metadata": {},
   "outputs": [
    {
     "data": {
      "text/html": [
       "<div>\n",
       "<style scoped>\n",
       "    .dataframe tbody tr th:only-of-type {\n",
       "        vertical-align: middle;\n",
       "    }\n",
       "\n",
       "    .dataframe tbody tr th {\n",
       "        vertical-align: top;\n",
       "    }\n",
       "\n",
       "    .dataframe thead th {\n",
       "        text-align: right;\n",
       "    }\n",
       "</style>\n",
       "<table border=\"1\" class=\"dataframe\">\n",
       "  <thead>\n",
       "    <tr style=\"text-align: right;\">\n",
       "      <th></th>\n",
       "      <th>Name</th>\n",
       "      <th>Price</th>\n",
       "      <th>Change</th>\n",
       "      <th>MarketCap</th>\n",
       "      <th>Volume24</th>\n",
       "      <th>Supply</th>\n",
       "    </tr>\n",
       "  </thead>\n",
       "  <tbody>\n",
       "    <tr>\n",
       "      <th>0</th>\n",
       "      <td>Ethereum USD</td>\n",
       "      <td>2,504.25</td>\n",
       "      <td>-272.520000</td>\n",
       "      <td>291B</td>\n",
       "      <td>34.171B</td>\n",
       "      <td>116.202M</td>\n",
       "    </tr>\n",
       "    <tr>\n",
       "      <th>1</th>\n",
       "      <td>BinanceCoin USD</td>\n",
       "      <td>348.73</td>\n",
       "      <td>-51.370000</td>\n",
       "      <td>53.507B</td>\n",
       "      <td>3.442B</td>\n",
       "      <td>153.433M</td>\n",
       "    </tr>\n",
       "    <tr>\n",
       "      <th>2</th>\n",
       "      <td>Dogecoin USD</td>\n",
       "      <td>0.324729</td>\n",
       "      <td>-0.049927</td>\n",
       "      <td>42.191B</td>\n",
       "      <td>3.609B</td>\n",
       "      <td>129.925B</td>\n",
       "    </tr>\n",
       "    <tr>\n",
       "      <th>3</th>\n",
       "      <td>USDCoin USD</td>\n",
       "      <td>1.0003</td>\n",
       "      <td>0.000100</td>\n",
       "      <td>23.058B</td>\n",
       "      <td>2.317B</td>\n",
       "      <td>23.052B</td>\n",
       "    </tr>\n",
       "    <tr>\n",
       "      <th>4</th>\n",
       "      <td>Uniswap USD</td>\n",
       "      <td>23.37</td>\n",
       "      <td>-3.020000</td>\n",
       "      <td>13.441B</td>\n",
       "      <td>518.682M</td>\n",
       "      <td>575.107M</td>\n",
       "    </tr>\n",
       "    <tr>\n",
       "      <th>5</th>\n",
       "      <td>BitcoinCash USD</td>\n",
       "      <td>581.84</td>\n",
       "      <td>-82.910000</td>\n",
       "      <td>10.914B</td>\n",
       "      <td>2.257B</td>\n",
       "      <td>18.758M</td>\n",
       "    </tr>\n",
       "    <tr>\n",
       "      <th>6</th>\n",
       "      <td>Chainlink USD</td>\n",
       "      <td>24.00</td>\n",
       "      <td>-4.270000</td>\n",
       "      <td>10.344B</td>\n",
       "      <td>1.566B</td>\n",
       "      <td>431.01M</td>\n",
       "    </tr>\n",
       "    <tr>\n",
       "      <th>7</th>\n",
       "      <td>HEX USD</td>\n",
       "      <td>0.056874</td>\n",
       "      <td>-0.003244</td>\n",
       "      <td>9.863B</td>\n",
       "      <td>25.728M</td>\n",
       "      <td>173.411B</td>\n",
       "    </tr>\n",
       "    <tr>\n",
       "      <th>8</th>\n",
       "      <td>THETA USD</td>\n",
       "      <td>8.7223</td>\n",
       "      <td>-0.474200</td>\n",
       "      <td>8.722B</td>\n",
       "      <td>790.173M</td>\n",
       "      <td>1B</td>\n",
       "    </tr>\n",
       "    <tr>\n",
       "      <th>9</th>\n",
       "      <td>VeChain USD</td>\n",
       "      <td>0.110606</td>\n",
       "      <td>-0.019213</td>\n",
       "      <td>7.114B</td>\n",
       "      <td>1.136B</td>\n",
       "      <td>64.316B</td>\n",
       "    </tr>\n",
       "    <tr>\n",
       "      <th>10</th>\n",
       "      <td>FilecoinFutures USD</td>\n",
       "      <td>75.86</td>\n",
       "      <td>-14.030000</td>\n",
       "      <td>5.881B</td>\n",
       "      <td>1.449B</td>\n",
       "      <td>77.533M</td>\n",
       "    </tr>\n",
       "    <tr>\n",
       "      <th>11</th>\n",
       "      <td>EOS USD</td>\n",
       "      <td>4.9811</td>\n",
       "      <td>-0.935900</td>\n",
       "      <td>4.752B</td>\n",
       "      <td>1.908B</td>\n",
       "      <td>954.064M</td>\n",
       "    </tr>\n",
       "  </tbody>\n",
       "</table>\n",
       "</div>"
      ],
      "text/plain": [
       "                   Name     Price      Change MarketCap  Volume24    Supply\n",
       "0          Ethereum USD  2,504.25 -272.520000      291B   34.171B  116.202M\n",
       "1       BinanceCoin USD    348.73  -51.370000   53.507B    3.442B  153.433M\n",
       "2          Dogecoin USD  0.324729   -0.049927   42.191B    3.609B  129.925B\n",
       "3           USDCoin USD    1.0003    0.000100   23.058B    2.317B   23.052B\n",
       "4           Uniswap USD     23.37   -3.020000   13.441B  518.682M  575.107M\n",
       "5       BitcoinCash USD    581.84  -82.910000   10.914B    2.257B   18.758M\n",
       "6         Chainlink USD     24.00   -4.270000   10.344B    1.566B   431.01M\n",
       "7               HEX USD  0.056874   -0.003244    9.863B   25.728M  173.411B\n",
       "8             THETA USD    8.7223   -0.474200    8.722B  790.173M        1B\n",
       "9           VeChain USD  0.110606   -0.019213    7.114B    1.136B   64.316B\n",
       "10  FilecoinFutures USD     75.86  -14.030000    5.881B    1.449B   77.533M\n",
       "11              EOS USD    4.9811   -0.935900    4.752B    1.908B  954.064M"
      ]
     },
     "execution_count": 20,
     "metadata": {},
     "output_type": "execute_result"
    }
   ],
   "source": [
    "data = df.drop(columns=[\"Unnamed: 0\"])\n",
    "data"
   ]
  },
  {
   "cell_type": "markdown",
   "id": "d7d45105",
   "metadata": {},
   "source": [
    "## Selecting Column"
   ]
  },
  {
   "cell_type": "code",
   "execution_count": 25,
   "id": "a25e0ff0",
   "metadata": {
    "collapsed": true
   },
   "outputs": [
    {
     "data": {
      "text/plain": [
       "0     2,504.25\n",
       "1       348.73\n",
       "2     0.324729\n",
       "3       1.0003\n",
       "4        23.37\n",
       "5       581.84\n",
       "6        24.00\n",
       "7     0.056874\n",
       "8       8.7223\n",
       "9     0.110606\n",
       "10       75.86\n",
       "11      4.9811\n",
       "Name: Price, dtype: object"
      ]
     },
     "execution_count": 25,
     "metadata": {},
     "output_type": "execute_result"
    }
   ],
   "source": [
    "data.Price\n",
    "data[\"Price\"]"
   ]
  },
  {
   "cell_type": "markdown",
   "id": "a84372b2",
   "metadata": {},
   "source": [
    "## Selecting Multiple Columns"
   ]
  },
  {
   "cell_type": "code",
   "execution_count": 26,
   "id": "7bfd19b0",
   "metadata": {
    "collapsed": true
   },
   "outputs": [
    {
     "data": {
      "text/html": [
       "<div>\n",
       "<style scoped>\n",
       "    .dataframe tbody tr th:only-of-type {\n",
       "        vertical-align: middle;\n",
       "    }\n",
       "\n",
       "    .dataframe tbody tr th {\n",
       "        vertical-align: top;\n",
       "    }\n",
       "\n",
       "    .dataframe thead th {\n",
       "        text-align: right;\n",
       "    }\n",
       "</style>\n",
       "<table border=\"1\" class=\"dataframe\">\n",
       "  <thead>\n",
       "    <tr style=\"text-align: right;\">\n",
       "      <th></th>\n",
       "      <th>Price</th>\n",
       "      <th>Name</th>\n",
       "    </tr>\n",
       "  </thead>\n",
       "  <tbody>\n",
       "    <tr>\n",
       "      <th>0</th>\n",
       "      <td>2,504.25</td>\n",
       "      <td>Ethereum USD</td>\n",
       "    </tr>\n",
       "    <tr>\n",
       "      <th>1</th>\n",
       "      <td>348.73</td>\n",
       "      <td>BinanceCoin USD</td>\n",
       "    </tr>\n",
       "    <tr>\n",
       "      <th>2</th>\n",
       "      <td>0.324729</td>\n",
       "      <td>Dogecoin USD</td>\n",
       "    </tr>\n",
       "    <tr>\n",
       "      <th>3</th>\n",
       "      <td>1.0003</td>\n",
       "      <td>USDCoin USD</td>\n",
       "    </tr>\n",
       "    <tr>\n",
       "      <th>4</th>\n",
       "      <td>23.37</td>\n",
       "      <td>Uniswap USD</td>\n",
       "    </tr>\n",
       "    <tr>\n",
       "      <th>5</th>\n",
       "      <td>581.84</td>\n",
       "      <td>BitcoinCash USD</td>\n",
       "    </tr>\n",
       "    <tr>\n",
       "      <th>6</th>\n",
       "      <td>24.00</td>\n",
       "      <td>Chainlink USD</td>\n",
       "    </tr>\n",
       "    <tr>\n",
       "      <th>7</th>\n",
       "      <td>0.056874</td>\n",
       "      <td>HEX USD</td>\n",
       "    </tr>\n",
       "    <tr>\n",
       "      <th>8</th>\n",
       "      <td>8.7223</td>\n",
       "      <td>THETA USD</td>\n",
       "    </tr>\n",
       "    <tr>\n",
       "      <th>9</th>\n",
       "      <td>0.110606</td>\n",
       "      <td>VeChain USD</td>\n",
       "    </tr>\n",
       "    <tr>\n",
       "      <th>10</th>\n",
       "      <td>75.86</td>\n",
       "      <td>FilecoinFutures USD</td>\n",
       "    </tr>\n",
       "    <tr>\n",
       "      <th>11</th>\n",
       "      <td>4.9811</td>\n",
       "      <td>EOS USD</td>\n",
       "    </tr>\n",
       "  </tbody>\n",
       "</table>\n",
       "</div>"
      ],
      "text/plain": [
       "       Price                 Name\n",
       "0   2,504.25         Ethereum USD\n",
       "1     348.73      BinanceCoin USD\n",
       "2   0.324729         Dogecoin USD\n",
       "3     1.0003          USDCoin USD\n",
       "4      23.37          Uniswap USD\n",
       "5     581.84      BitcoinCash USD\n",
       "6      24.00        Chainlink USD\n",
       "7   0.056874              HEX USD\n",
       "8     8.7223            THETA USD\n",
       "9   0.110606          VeChain USD\n",
       "10     75.86  FilecoinFutures USD\n",
       "11    4.9811              EOS USD"
      ]
     },
     "execution_count": 26,
     "metadata": {},
     "output_type": "execute_result"
    }
   ],
   "source": [
    "data.loc[:,[\"Price\",\"Name\"]]"
   ]
  },
  {
   "cell_type": "markdown",
   "id": "d7c46eba",
   "metadata": {},
   "source": [
    "## Selecting Row"
   ]
  },
  {
   "cell_type": "code",
   "execution_count": 31,
   "id": "6dc5eba2",
   "metadata": {
    "collapsed": true
   },
   "outputs": [
    {
     "data": {
      "text/plain": [
       "Name              HEX\n",
       "Price        0.056874\n",
       "Change      -0.003244\n",
       "MarketCap      9.863B\n",
       "Volume24      25.728M\n",
       "Supply       173.411B\n",
       "Name: 7, dtype: object"
      ]
     },
     "execution_count": 31,
     "metadata": {},
     "output_type": "execute_result"
    }
   ],
   "source": [
    "data.loc[0]\n",
    "data.iloc[7]"
   ]
  },
  {
   "cell_type": "markdown",
   "id": "e98423d9",
   "metadata": {},
   "source": [
    "## Selecting Rows"
   ]
  },
  {
   "cell_type": "code",
   "execution_count": 35,
   "id": "eca75a6c",
   "metadata": {
    "collapsed": true
   },
   "outputs": [
    {
     "data": {
      "text/html": [
       "<div>\n",
       "<style scoped>\n",
       "    .dataframe tbody tr th:only-of-type {\n",
       "        vertical-align: middle;\n",
       "    }\n",
       "\n",
       "    .dataframe tbody tr th {\n",
       "        vertical-align: top;\n",
       "    }\n",
       "\n",
       "    .dataframe thead th {\n",
       "        text-align: right;\n",
       "    }\n",
       "</style>\n",
       "<table border=\"1\" class=\"dataframe\">\n",
       "  <thead>\n",
       "    <tr style=\"text-align: right;\">\n",
       "      <th></th>\n",
       "      <th>Name</th>\n",
       "      <th>Price</th>\n",
       "      <th>Change</th>\n",
       "      <th>MarketCap</th>\n",
       "      <th>Volume24</th>\n",
       "      <th>Supply</th>\n",
       "    </tr>\n",
       "  </thead>\n",
       "  <tbody>\n",
       "    <tr>\n",
       "      <th>4</th>\n",
       "      <td>Uniswap</td>\n",
       "      <td>23.37</td>\n",
       "      <td>-3.02</td>\n",
       "      <td>13.441B</td>\n",
       "      <td>518.682M</td>\n",
       "      <td>575.107M</td>\n",
       "    </tr>\n",
       "    <tr>\n",
       "      <th>5</th>\n",
       "      <td>BitcoinCash</td>\n",
       "      <td>581.84</td>\n",
       "      <td>-82.91</td>\n",
       "      <td>10.914B</td>\n",
       "      <td>2.257B</td>\n",
       "      <td>18.758M</td>\n",
       "    </tr>\n",
       "  </tbody>\n",
       "</table>\n",
       "</div>"
      ],
      "text/plain": [
       "          Name   Price  Change MarketCap  Volume24    Supply\n",
       "4      Uniswap   23.37   -3.02   13.441B  518.682M  575.107M\n",
       "5  BitcoinCash  581.84  -82.91   10.914B    2.257B   18.758M"
      ]
     },
     "execution_count": 35,
     "metadata": {},
     "output_type": "execute_result"
    }
   ],
   "source": [
    "data.iloc[4:6]"
   ]
  },
  {
   "cell_type": "markdown",
   "id": "47dad436",
   "metadata": {},
   "source": [
    "## Specific Values"
   ]
  },
  {
   "cell_type": "code",
   "execution_count": 36,
   "id": "bec06064",
   "metadata": {
    "collapsed": true
   },
   "outputs": [
    {
     "data": {
      "text/html": [
       "<div>\n",
       "<style scoped>\n",
       "    .dataframe tbody tr th:only-of-type {\n",
       "        vertical-align: middle;\n",
       "    }\n",
       "\n",
       "    .dataframe tbody tr th {\n",
       "        vertical-align: top;\n",
       "    }\n",
       "\n",
       "    .dataframe thead th {\n",
       "        text-align: right;\n",
       "    }\n",
       "</style>\n",
       "<table border=\"1\" class=\"dataframe\">\n",
       "  <thead>\n",
       "    <tr style=\"text-align: right;\">\n",
       "      <th></th>\n",
       "      <th>Name</th>\n",
       "      <th>Price</th>\n",
       "    </tr>\n",
       "  </thead>\n",
       "  <tbody>\n",
       "    <tr>\n",
       "      <th>0</th>\n",
       "      <td>Ethereum</td>\n",
       "      <td>2,504.25</td>\n",
       "    </tr>\n",
       "    <tr>\n",
       "      <th>1</th>\n",
       "      <td>BinanceCoin</td>\n",
       "      <td>348.73</td>\n",
       "    </tr>\n",
       "    <tr>\n",
       "      <th>2</th>\n",
       "      <td>Dogecoin</td>\n",
       "      <td>0.324729</td>\n",
       "    </tr>\n",
       "    <tr>\n",
       "      <th>3</th>\n",
       "      <td>USDCoin</td>\n",
       "      <td>1.0003</td>\n",
       "    </tr>\n",
       "  </tbody>\n",
       "</table>\n",
       "</div>"
      ],
      "text/plain": [
       "          Name     Price\n",
       "0     Ethereum  2,504.25\n",
       "1  BinanceCoin    348.73\n",
       "2     Dogecoin  0.324729\n",
       "3      USDCoin    1.0003"
      ]
     },
     "execution_count": 36,
     "metadata": {},
     "output_type": "execute_result"
    }
   ],
   "source": [
    "data.loc[0:3,[\"Name\",\"Price\"]]\n",
    "data.iloc[[1,2,4],[0,2]]"
   ]
  },
  {
   "cell_type": "markdown",
   "id": "341bf4d9",
   "metadata": {},
   "source": [
    "## Specific Value\n"
   ]
  },
  {
   "cell_type": "code",
   "execution_count": 39,
   "id": "501533ca",
   "metadata": {},
   "outputs": [
    {
     "data": {
      "text/plain": [
       "'581.84'"
      ]
     },
     "execution_count": 39,
     "metadata": {},
     "output_type": "execute_result"
    }
   ],
   "source": [
    "data.loc[5,\"Name\"]\n",
    "data.iloc[5,0]"
   ]
  },
  {
   "cell_type": "markdown",
   "id": "df39000e",
   "metadata": {},
   "source": [
    "## Selecting one value and change it"
   ]
  },
  {
   "cell_type": "code",
   "execution_count": 43,
   "id": "029f62e0",
   "metadata": {},
   "outputs": [],
   "source": [
    "data.loc[5,\"Name\"]=\"ss\""
   ]
  },
  {
   "cell_type": "markdown",
   "id": "3f835458",
   "metadata": {},
   "source": [
    "## Changing string to int ( Removing the comma, changing it to float and int)"
   ]
  },
  {
   "cell_type": "code",
   "execution_count": 55,
   "id": "ab064f8e",
   "metadata": {
    "collapsed": true
   },
   "outputs": [
    {
     "data": {
      "text/plain": [
       "Name          object\n",
       "Price        float64\n",
       "Change       float64\n",
       "MarketCap     object\n",
       "Volume24      object\n",
       "Supply        object\n",
       "dtype: object"
      ]
     },
     "execution_count": 55,
     "metadata": {},
     "output_type": "execute_result"
    }
   ],
   "source": [
    "data[\"Price\"]=data[\"Price\"].str.replace(',','')\n",
    "data['Price'] = data['Price'].astype(float)\n",
    "data['Price'] = data['Price'].astype(int)"
   ]
  },
  {
   "cell_type": "code",
   "execution_count": 61,
   "id": "5992df6d",
   "metadata": {},
   "outputs": [],
   "source": [
    "data['Price'] = data['Price'].astype(int)\n",
    "data['Change'] = data['Change'].astype(int)"
   ]
  },
  {
   "cell_type": "code",
   "execution_count": 62,
   "id": "b2097887",
   "metadata": {
    "collapsed": true
   },
   "outputs": [
    {
     "data": {
      "text/plain": [
       "Name         object\n",
       "Price         int32\n",
       "Change        int32\n",
       "MarketCap    object\n",
       "Volume24     object\n",
       "Supply       object\n",
       "dtype: object"
      ]
     },
     "execution_count": 62,
     "metadata": {},
     "output_type": "execute_result"
    }
   ],
   "source": [
    "data.dtypes"
   ]
  },
  {
   "cell_type": "markdown",
   "id": "285e6182",
   "metadata": {},
   "source": [
    "## Applying Lambda"
   ]
  },
  {
   "cell_type": "code",
   "execution_count": 73,
   "id": "5ebfd273",
   "metadata": {},
   "outputs": [],
   "source": [
    "def change(x):\n",
    "    x *100 + 150\n",
    "    return x\n",
    "\n",
    "data[\"ChangeInPrice\"] =  data.apply(lambda x:change(x[\"Price\"]), axis = 1)"
   ]
  },
  {
   "cell_type": "code",
   "execution_count": 80,
   "id": "b7dcc4ce",
   "metadata": {},
   "outputs": [],
   "source": [
    "def afterprice(x,y):\n",
    "    a = x+(x*y)\n",
    "    return a\n",
    "    \n",
    "data[\"AfterPrice\"] =  data.apply(lambda x: afterprice(x[\"Price\"],x['Change']), axis = 1)"
   ]
  },
  {
   "cell_type": "markdown",
   "id": "557d8091",
   "metadata": {},
   "source": [
    "## GroupBy"
   ]
  },
  {
   "cell_type": "code",
   "execution_count": 96,
   "id": "487a8592",
   "metadata": {
    "collapsed": true
   },
   "outputs": [
    {
     "data": {
      "text/plain": [
       "Name\n",
       "BinanceCoin         348\n",
       "Chainlink            24\n",
       "Dogecoin              0\n",
       "EOS                   4\n",
       "Ethereum           2504\n",
       "FilecoinFutures      75\n",
       "HEX                   0\n",
       "THETA                 8\n",
       "USDCoin               1\n",
       "Uniswap              23\n",
       "VeChain               0\n",
       "ss                  581\n",
       "Name: Price, dtype: int32"
      ]
     },
     "execution_count": 96,
     "metadata": {},
     "output_type": "execute_result"
    }
   ],
   "source": [
    "data.groupby(\"Name\")[\"Price\"].mean()"
   ]
  },
  {
   "cell_type": "code",
   "execution_count": 99,
   "id": "392d5dd9",
   "metadata": {
    "collapsed": true
   },
   "outputs": [
    {
     "ename": "AttributeError",
     "evalue": "'SeriesGroupBy' object has no attribute 'AfterPrice'",
     "output_type": "error",
     "traceback": [
      "\u001b[1;31m---------------------------------------------------------------------------\u001b[0m",
      "\u001b[1;31mAttributeError\u001b[0m                            Traceback (most recent call last)",
      "\u001b[1;32m<ipython-input-99-bf6d4334ad5c>\u001b[0m in \u001b[0;36m<module>\u001b[1;34m\u001b[0m\n\u001b[1;32m----> 1\u001b[1;33m \u001b[0mdata\u001b[0m\u001b[1;33m.\u001b[0m\u001b[0mgroupby\u001b[0m\u001b[1;33m(\u001b[0m\u001b[1;34m\"Name\"\u001b[0m\u001b[1;33m)\u001b[0m\u001b[1;33m.\u001b[0m\u001b[0magg\u001b[0m\u001b[1;33m(\u001b[0m\u001b[1;33m[\u001b[0m\u001b[1;34m'AfterPrice'\u001b[0m\u001b[1;33m,\u001b[0m\u001b[1;34m'Change'\u001b[0m\u001b[1;33m]\u001b[0m\u001b[1;33m)\u001b[0m\u001b[1;33m\u001b[0m\u001b[1;33m\u001b[0m\u001b[0m\n\u001b[0m",
      "\u001b[1;32m~\\anaconda3\\lib\\site-packages\\pandas\\core\\groupby\\generic.py\u001b[0m in \u001b[0;36maggregate\u001b[1;34m(self, func, engine, engine_kwargs, *args, **kwargs)\u001b[0m\n\u001b[0;32m    943\u001b[0m         \u001b[0mfunc\u001b[0m \u001b[1;33m=\u001b[0m \u001b[0mmaybe_mangle_lambdas\u001b[0m\u001b[1;33m(\u001b[0m\u001b[0mfunc\u001b[0m\u001b[1;33m)\u001b[0m\u001b[1;33m\u001b[0m\u001b[1;33m\u001b[0m\u001b[0m\n\u001b[0;32m    944\u001b[0m \u001b[1;33m\u001b[0m\u001b[0m\n\u001b[1;32m--> 945\u001b[1;33m         \u001b[0mresult\u001b[0m\u001b[1;33m,\u001b[0m \u001b[0mhow\u001b[0m \u001b[1;33m=\u001b[0m \u001b[0maggregate\u001b[0m\u001b[1;33m(\u001b[0m\u001b[0mself\u001b[0m\u001b[1;33m,\u001b[0m \u001b[0mfunc\u001b[0m\u001b[1;33m,\u001b[0m \u001b[1;33m*\u001b[0m\u001b[0margs\u001b[0m\u001b[1;33m,\u001b[0m \u001b[1;33m**\u001b[0m\u001b[0mkwargs\u001b[0m\u001b[1;33m)\u001b[0m\u001b[1;33m\u001b[0m\u001b[1;33m\u001b[0m\u001b[0m\n\u001b[0m\u001b[0;32m    946\u001b[0m         \u001b[1;32mif\u001b[0m \u001b[0mhow\u001b[0m \u001b[1;32mis\u001b[0m \u001b[1;32mNone\u001b[0m\u001b[1;33m:\u001b[0m\u001b[1;33m\u001b[0m\u001b[1;33m\u001b[0m\u001b[0m\n\u001b[0;32m    947\u001b[0m             \u001b[1;32mreturn\u001b[0m \u001b[0mresult\u001b[0m\u001b[1;33m\u001b[0m\u001b[1;33m\u001b[0m\u001b[0m\n",
      "\u001b[1;32m~\\anaconda3\\lib\\site-packages\\pandas\\core\\aggregation.py\u001b[0m in \u001b[0;36maggregate\u001b[1;34m(obj, arg, *args, **kwargs)\u001b[0m\n\u001b[0;32m    584\u001b[0m         \u001b[1;31m# we require a list, but not an 'str'\u001b[0m\u001b[1;33m\u001b[0m\u001b[1;33m\u001b[0m\u001b[1;33m\u001b[0m\u001b[0m\n\u001b[0;32m    585\u001b[0m         \u001b[0marg\u001b[0m \u001b[1;33m=\u001b[0m \u001b[0mcast\u001b[0m\u001b[1;33m(\u001b[0m\u001b[0mList\u001b[0m\u001b[1;33m[\u001b[0m\u001b[0mAggFuncTypeBase\u001b[0m\u001b[1;33m]\u001b[0m\u001b[1;33m,\u001b[0m \u001b[0marg\u001b[0m\u001b[1;33m)\u001b[0m\u001b[1;33m\u001b[0m\u001b[1;33m\u001b[0m\u001b[0m\n\u001b[1;32m--> 586\u001b[1;33m         \u001b[1;32mreturn\u001b[0m \u001b[0magg_list_like\u001b[0m\u001b[1;33m(\u001b[0m\u001b[0mobj\u001b[0m\u001b[1;33m,\u001b[0m \u001b[0marg\u001b[0m\u001b[1;33m,\u001b[0m \u001b[0m_axis\u001b[0m\u001b[1;33m=\u001b[0m\u001b[0m_axis\u001b[0m\u001b[1;33m)\u001b[0m\u001b[1;33m,\u001b[0m \u001b[1;32mNone\u001b[0m\u001b[1;33m\u001b[0m\u001b[1;33m\u001b[0m\u001b[0m\n\u001b[0m\u001b[0;32m    587\u001b[0m     \u001b[1;32melse\u001b[0m\u001b[1;33m:\u001b[0m\u001b[1;33m\u001b[0m\u001b[1;33m\u001b[0m\u001b[0m\n\u001b[0;32m    588\u001b[0m         \u001b[0mresult\u001b[0m \u001b[1;33m=\u001b[0m \u001b[1;32mNone\u001b[0m\u001b[1;33m\u001b[0m\u001b[1;33m\u001b[0m\u001b[0m\n",
      "\u001b[1;32m~\\anaconda3\\lib\\site-packages\\pandas\\core\\aggregation.py\u001b[0m in \u001b[0;36magg_list_like\u001b[1;34m(obj, arg, _axis)\u001b[0m\n\u001b[0;32m    651\u001b[0m             \u001b[0mcolg\u001b[0m \u001b[1;33m=\u001b[0m \u001b[0mobj\u001b[0m\u001b[1;33m.\u001b[0m\u001b[0m_gotitem\u001b[0m\u001b[1;33m(\u001b[0m\u001b[0mcol\u001b[0m\u001b[1;33m,\u001b[0m \u001b[0mndim\u001b[0m\u001b[1;33m=\u001b[0m\u001b[1;36m1\u001b[0m\u001b[1;33m,\u001b[0m \u001b[0msubset\u001b[0m\u001b[1;33m=\u001b[0m\u001b[0mselected_obj\u001b[0m\u001b[1;33m.\u001b[0m\u001b[0miloc\u001b[0m\u001b[1;33m[\u001b[0m\u001b[1;33m:\u001b[0m\u001b[1;33m,\u001b[0m \u001b[0mindex\u001b[0m\u001b[1;33m]\u001b[0m\u001b[1;33m)\u001b[0m\u001b[1;33m\u001b[0m\u001b[1;33m\u001b[0m\u001b[0m\n\u001b[0;32m    652\u001b[0m             \u001b[1;32mtry\u001b[0m\u001b[1;33m:\u001b[0m\u001b[1;33m\u001b[0m\u001b[1;33m\u001b[0m\u001b[0m\n\u001b[1;32m--> 653\u001b[1;33m                 \u001b[0mnew_res\u001b[0m \u001b[1;33m=\u001b[0m \u001b[0mcolg\u001b[0m\u001b[1;33m.\u001b[0m\u001b[0maggregate\u001b[0m\u001b[1;33m(\u001b[0m\u001b[0marg\u001b[0m\u001b[1;33m)\u001b[0m\u001b[1;33m\u001b[0m\u001b[1;33m\u001b[0m\u001b[0m\n\u001b[0m\u001b[0;32m    654\u001b[0m             \u001b[1;32mexcept\u001b[0m \u001b[1;33m(\u001b[0m\u001b[0mTypeError\u001b[0m\u001b[1;33m,\u001b[0m \u001b[0mDataError\u001b[0m\u001b[1;33m)\u001b[0m\u001b[1;33m:\u001b[0m\u001b[1;33m\u001b[0m\u001b[1;33m\u001b[0m\u001b[0m\n\u001b[0;32m    655\u001b[0m                 \u001b[1;32mpass\u001b[0m\u001b[1;33m\u001b[0m\u001b[1;33m\u001b[0m\u001b[0m\n",
      "\u001b[1;32m~\\anaconda3\\lib\\site-packages\\pandas\\core\\groupby\\generic.py\u001b[0m in \u001b[0;36maggregate\u001b[1;34m(self, func, engine, engine_kwargs, *args, **kwargs)\u001b[0m\n\u001b[0;32m    245\u001b[0m             \u001b[1;31m# but not the class list / tuple itself.\u001b[0m\u001b[1;33m\u001b[0m\u001b[1;33m\u001b[0m\u001b[1;33m\u001b[0m\u001b[0m\n\u001b[0;32m    246\u001b[0m             \u001b[0mfunc\u001b[0m \u001b[1;33m=\u001b[0m \u001b[0mmaybe_mangle_lambdas\u001b[0m\u001b[1;33m(\u001b[0m\u001b[0mfunc\u001b[0m\u001b[1;33m)\u001b[0m\u001b[1;33m\u001b[0m\u001b[1;33m\u001b[0m\u001b[0m\n\u001b[1;32m--> 247\u001b[1;33m             \u001b[0mret\u001b[0m \u001b[1;33m=\u001b[0m \u001b[0mself\u001b[0m\u001b[1;33m.\u001b[0m\u001b[0m_aggregate_multiple_funcs\u001b[0m\u001b[1;33m(\u001b[0m\u001b[0mfunc\u001b[0m\u001b[1;33m)\u001b[0m\u001b[1;33m\u001b[0m\u001b[1;33m\u001b[0m\u001b[0m\n\u001b[0m\u001b[0;32m    248\u001b[0m             \u001b[1;32mif\u001b[0m \u001b[0mrelabeling\u001b[0m\u001b[1;33m:\u001b[0m\u001b[1;33m\u001b[0m\u001b[1;33m\u001b[0m\u001b[0m\n\u001b[0;32m    249\u001b[0m                 \u001b[0mret\u001b[0m\u001b[1;33m.\u001b[0m\u001b[0mcolumns\u001b[0m \u001b[1;33m=\u001b[0m \u001b[0mcolumns\u001b[0m\u001b[1;33m\u001b[0m\u001b[1;33m\u001b[0m\u001b[0m\n",
      "\u001b[1;32m~\\anaconda3\\lib\\site-packages\\pandas\\core\\groupby\\generic.py\u001b[0m in \u001b[0;36m_aggregate_multiple_funcs\u001b[1;34m(self, arg)\u001b[0m\n\u001b[0;32m    313\u001b[0m                 \u001b[0mobj\u001b[0m\u001b[1;33m.\u001b[0m\u001b[0m_reset_cache\u001b[0m\u001b[1;33m(\u001b[0m\u001b[1;33m)\u001b[0m\u001b[1;33m\u001b[0m\u001b[1;33m\u001b[0m\u001b[0m\n\u001b[0;32m    314\u001b[0m                 \u001b[0mobj\u001b[0m\u001b[1;33m.\u001b[0m\u001b[0m_selection\u001b[0m \u001b[1;33m=\u001b[0m \u001b[0mname\u001b[0m\u001b[1;33m\u001b[0m\u001b[1;33m\u001b[0m\u001b[0m\n\u001b[1;32m--> 315\u001b[1;33m             \u001b[0mresults\u001b[0m\u001b[1;33m[\u001b[0m\u001b[0mbase\u001b[0m\u001b[1;33m.\u001b[0m\u001b[0mOutputKey\u001b[0m\u001b[1;33m(\u001b[0m\u001b[0mlabel\u001b[0m\u001b[1;33m=\u001b[0m\u001b[0mname\u001b[0m\u001b[1;33m,\u001b[0m \u001b[0mposition\u001b[0m\u001b[1;33m=\u001b[0m\u001b[0midx\u001b[0m\u001b[1;33m)\u001b[0m\u001b[1;33m]\u001b[0m \u001b[1;33m=\u001b[0m \u001b[0mobj\u001b[0m\u001b[1;33m.\u001b[0m\u001b[0maggregate\u001b[0m\u001b[1;33m(\u001b[0m\u001b[0mfunc\u001b[0m\u001b[1;33m)\u001b[0m\u001b[1;33m\u001b[0m\u001b[1;33m\u001b[0m\u001b[0m\n\u001b[0m\u001b[0;32m    316\u001b[0m \u001b[1;33m\u001b[0m\u001b[0m\n\u001b[0;32m    317\u001b[0m         \u001b[1;32mif\u001b[0m \u001b[0many\u001b[0m\u001b[1;33m(\u001b[0m\u001b[0misinstance\u001b[0m\u001b[1;33m(\u001b[0m\u001b[0mx\u001b[0m\u001b[1;33m,\u001b[0m \u001b[0mDataFrame\u001b[0m\u001b[1;33m)\u001b[0m \u001b[1;32mfor\u001b[0m \u001b[0mx\u001b[0m \u001b[1;32min\u001b[0m \u001b[0mresults\u001b[0m\u001b[1;33m.\u001b[0m\u001b[0mvalues\u001b[0m\u001b[1;33m(\u001b[0m\u001b[1;33m)\u001b[0m\u001b[1;33m)\u001b[0m\u001b[1;33m:\u001b[0m\u001b[1;33m\u001b[0m\u001b[1;33m\u001b[0m\u001b[0m\n",
      "\u001b[1;32m~\\anaconda3\\lib\\site-packages\\pandas\\core\\groupby\\generic.py\u001b[0m in \u001b[0;36maggregate\u001b[1;34m(self, func, engine, engine_kwargs, *args, **kwargs)\u001b[0m\n\u001b[0;32m    239\u001b[0m \u001b[1;33m\u001b[0m\u001b[0m\n\u001b[0;32m    240\u001b[0m         \u001b[1;32mif\u001b[0m \u001b[0misinstance\u001b[0m\u001b[1;33m(\u001b[0m\u001b[0mfunc\u001b[0m\u001b[1;33m,\u001b[0m \u001b[0mstr\u001b[0m\u001b[1;33m)\u001b[0m\u001b[1;33m:\u001b[0m\u001b[1;33m\u001b[0m\u001b[1;33m\u001b[0m\u001b[0m\n\u001b[1;32m--> 241\u001b[1;33m             \u001b[1;32mreturn\u001b[0m \u001b[0mgetattr\u001b[0m\u001b[1;33m(\u001b[0m\u001b[0mself\u001b[0m\u001b[1;33m,\u001b[0m \u001b[0mfunc\u001b[0m\u001b[1;33m)\u001b[0m\u001b[1;33m(\u001b[0m\u001b[1;33m*\u001b[0m\u001b[0margs\u001b[0m\u001b[1;33m,\u001b[0m \u001b[1;33m**\u001b[0m\u001b[0mkwargs\u001b[0m\u001b[1;33m)\u001b[0m\u001b[1;33m\u001b[0m\u001b[1;33m\u001b[0m\u001b[0m\n\u001b[0m\u001b[0;32m    242\u001b[0m \u001b[1;33m\u001b[0m\u001b[0m\n\u001b[0;32m    243\u001b[0m         \u001b[1;32melif\u001b[0m \u001b[0misinstance\u001b[0m\u001b[1;33m(\u001b[0m\u001b[0mfunc\u001b[0m\u001b[1;33m,\u001b[0m \u001b[0mabc\u001b[0m\u001b[1;33m.\u001b[0m\u001b[0mIterable\u001b[0m\u001b[1;33m)\u001b[0m\u001b[1;33m:\u001b[0m\u001b[1;33m\u001b[0m\u001b[1;33m\u001b[0m\u001b[0m\n",
      "\u001b[1;32m~\\anaconda3\\lib\\site-packages\\pandas\\core\\groupby\\groupby.py\u001b[0m in \u001b[0;36m__getattr__\u001b[1;34m(self, attr)\u001b[0m\n\u001b[0;32m    750\u001b[0m             \u001b[1;32mreturn\u001b[0m \u001b[0mself\u001b[0m\u001b[1;33m[\u001b[0m\u001b[0mattr\u001b[0m\u001b[1;33m]\u001b[0m\u001b[1;33m\u001b[0m\u001b[1;33m\u001b[0m\u001b[0m\n\u001b[0;32m    751\u001b[0m \u001b[1;33m\u001b[0m\u001b[0m\n\u001b[1;32m--> 752\u001b[1;33m         raise AttributeError(\n\u001b[0m\u001b[0;32m    753\u001b[0m             \u001b[1;34mf\"'{type(self).__name__}' object has no attribute '{attr}'\"\u001b[0m\u001b[1;33m\u001b[0m\u001b[1;33m\u001b[0m\u001b[0m\n\u001b[0;32m    754\u001b[0m         )\n",
      "\u001b[1;31mAttributeError\u001b[0m: 'SeriesGroupBy' object has no attribute 'AfterPrice'"
     ]
    }
   ],
   "source": [
    "data.groupby(\"Name\").agg(['AfterPrice','Change'])"
   ]
  },
  {
   "cell_type": "code",
   "execution_count": 84,
   "id": "fb4524f6",
   "metadata": {
    "collapsed": true
   },
   "outputs": [
    {
     "data": {
      "text/html": [
       "<div>\n",
       "<style scoped>\n",
       "    .dataframe tbody tr th:only-of-type {\n",
       "        vertical-align: middle;\n",
       "    }\n",
       "\n",
       "    .dataframe tbody tr th {\n",
       "        vertical-align: top;\n",
       "    }\n",
       "\n",
       "    .dataframe thead th {\n",
       "        text-align: right;\n",
       "    }\n",
       "</style>\n",
       "<table border=\"1\" class=\"dataframe\">\n",
       "  <thead>\n",
       "    <tr style=\"text-align: right;\">\n",
       "      <th></th>\n",
       "      <th>Price</th>\n",
       "      <th>Change</th>\n",
       "      <th>ChangeInPrice</th>\n",
       "      <th>AfterPrice</th>\n",
       "    </tr>\n",
       "    <tr>\n",
       "      <th>Name</th>\n",
       "      <th></th>\n",
       "      <th></th>\n",
       "      <th></th>\n",
       "      <th></th>\n",
       "    </tr>\n",
       "  </thead>\n",
       "  <tbody>\n",
       "    <tr>\n",
       "      <th>BinanceCoin</th>\n",
       "      <td>348</td>\n",
       "      <td>-51</td>\n",
       "      <td>348</td>\n",
       "      <td>-17400</td>\n",
       "    </tr>\n",
       "    <tr>\n",
       "      <th>Chainlink</th>\n",
       "      <td>24</td>\n",
       "      <td>-4</td>\n",
       "      <td>24</td>\n",
       "      <td>-72</td>\n",
       "    </tr>\n",
       "    <tr>\n",
       "      <th>Dogecoin</th>\n",
       "      <td>0</td>\n",
       "      <td>0</td>\n",
       "      <td>0</td>\n",
       "      <td>0</td>\n",
       "    </tr>\n",
       "    <tr>\n",
       "      <th>EOS</th>\n",
       "      <td>4</td>\n",
       "      <td>0</td>\n",
       "      <td>4</td>\n",
       "      <td>4</td>\n",
       "    </tr>\n",
       "    <tr>\n",
       "      <th>Ethereum</th>\n",
       "      <td>2504</td>\n",
       "      <td>-272</td>\n",
       "      <td>2504</td>\n",
       "      <td>-678584</td>\n",
       "    </tr>\n",
       "    <tr>\n",
       "      <th>FilecoinFutures</th>\n",
       "      <td>75</td>\n",
       "      <td>-14</td>\n",
       "      <td>75</td>\n",
       "      <td>-975</td>\n",
       "    </tr>\n",
       "    <tr>\n",
       "      <th>HEX</th>\n",
       "      <td>0</td>\n",
       "      <td>0</td>\n",
       "      <td>0</td>\n",
       "      <td>0</td>\n",
       "    </tr>\n",
       "    <tr>\n",
       "      <th>THETA</th>\n",
       "      <td>8</td>\n",
       "      <td>0</td>\n",
       "      <td>8</td>\n",
       "      <td>8</td>\n",
       "    </tr>\n",
       "    <tr>\n",
       "      <th>USDCoin</th>\n",
       "      <td>1</td>\n",
       "      <td>0</td>\n",
       "      <td>1</td>\n",
       "      <td>1</td>\n",
       "    </tr>\n",
       "    <tr>\n",
       "      <th>Uniswap</th>\n",
       "      <td>23</td>\n",
       "      <td>-3</td>\n",
       "      <td>23</td>\n",
       "      <td>-46</td>\n",
       "    </tr>\n",
       "    <tr>\n",
       "      <th>VeChain</th>\n",
       "      <td>0</td>\n",
       "      <td>0</td>\n",
       "      <td>0</td>\n",
       "      <td>0</td>\n",
       "    </tr>\n",
       "    <tr>\n",
       "      <th>ss</th>\n",
       "      <td>581</td>\n",
       "      <td>-82</td>\n",
       "      <td>581</td>\n",
       "      <td>-47061</td>\n",
       "    </tr>\n",
       "  </tbody>\n",
       "</table>\n",
       "</div>"
      ],
      "text/plain": [
       "                 Price  Change  ChangeInPrice  AfterPrice\n",
       "Name                                                     \n",
       "BinanceCoin        348     -51            348      -17400\n",
       "Chainlink           24      -4             24         -72\n",
       "Dogecoin             0       0              0           0\n",
       "EOS                  4       0              4           4\n",
       "Ethereum          2504    -272           2504     -678584\n",
       "FilecoinFutures     75     -14             75        -975\n",
       "HEX                  0       0              0           0\n",
       "THETA                8       0              8           8\n",
       "USDCoin              1       0              1           1\n",
       "Uniswap             23      -3             23         -46\n",
       "VeChain              0       0              0           0\n",
       "ss                 581     -82            581      -47061"
      ]
     },
     "execution_count": 84,
     "metadata": {},
     "output_type": "execute_result"
    }
   ],
   "source": [
    "data.groupby(\"Name\").mean()"
   ]
  },
  {
   "cell_type": "markdown",
   "id": "0e62bc3d",
   "metadata": {},
   "source": [
    "## Manipulating  Coloumn Name"
   ]
  },
  {
   "cell_type": "code",
   "execution_count": null,
   "id": "449e2bd9",
   "metadata": {},
   "outputs": [],
   "source": [
    "data[\"Name\"]=data[\"Name\"].str[:-4]"
   ]
  },
  {
   "cell_type": "code",
   "execution_count": 85,
   "id": "10f78c38",
   "metadata": {
    "collapsed": true
   },
   "outputs": [
    {
     "data": {
      "text/html": [
       "<div>\n",
       "<style scoped>\n",
       "    .dataframe tbody tr th:only-of-type {\n",
       "        vertical-align: middle;\n",
       "    }\n",
       "\n",
       "    .dataframe tbody tr th {\n",
       "        vertical-align: top;\n",
       "    }\n",
       "\n",
       "    .dataframe thead th {\n",
       "        text-align: right;\n",
       "    }\n",
       "</style>\n",
       "<table border=\"1\" class=\"dataframe\">\n",
       "  <thead>\n",
       "    <tr style=\"text-align: right;\">\n",
       "      <th></th>\n",
       "      <th>Name</th>\n",
       "      <th>Price</th>\n",
       "      <th>Change</th>\n",
       "      <th>MarketCap</th>\n",
       "      <th>Volume24</th>\n",
       "      <th>Supply</th>\n",
       "      <th>ChangeInPrice</th>\n",
       "      <th>AfterPrice</th>\n",
       "    </tr>\n",
       "  </thead>\n",
       "  <tbody>\n",
       "    <tr>\n",
       "      <th>0</th>\n",
       "      <td>Ethereum</td>\n",
       "      <td>2504</td>\n",
       "      <td>-272</td>\n",
       "      <td>291B</td>\n",
       "      <td>34.171B</td>\n",
       "      <td>116.202M</td>\n",
       "      <td>2504</td>\n",
       "      <td>-678584</td>\n",
       "    </tr>\n",
       "    <tr>\n",
       "      <th>1</th>\n",
       "      <td>BinanceCoin</td>\n",
       "      <td>348</td>\n",
       "      <td>-51</td>\n",
       "      <td>53.507B</td>\n",
       "      <td>3.442B</td>\n",
       "      <td>153.433M</td>\n",
       "      <td>348</td>\n",
       "      <td>-17400</td>\n",
       "    </tr>\n",
       "    <tr>\n",
       "      <th>2</th>\n",
       "      <td>Dogecoin</td>\n",
       "      <td>0</td>\n",
       "      <td>0</td>\n",
       "      <td>42.191B</td>\n",
       "      <td>3.609B</td>\n",
       "      <td>129.925B</td>\n",
       "      <td>0</td>\n",
       "      <td>0</td>\n",
       "    </tr>\n",
       "    <tr>\n",
       "      <th>3</th>\n",
       "      <td>USDCoin</td>\n",
       "      <td>1</td>\n",
       "      <td>0</td>\n",
       "      <td>23.058B</td>\n",
       "      <td>2.317B</td>\n",
       "      <td>23.052B</td>\n",
       "      <td>1</td>\n",
       "      <td>1</td>\n",
       "    </tr>\n",
       "    <tr>\n",
       "      <th>4</th>\n",
       "      <td>Uniswap</td>\n",
       "      <td>23</td>\n",
       "      <td>-3</td>\n",
       "      <td>13.441B</td>\n",
       "      <td>518.682M</td>\n",
       "      <td>575.107M</td>\n",
       "      <td>23</td>\n",
       "      <td>-46</td>\n",
       "    </tr>\n",
       "    <tr>\n",
       "      <th>5</th>\n",
       "      <td>ss</td>\n",
       "      <td>581</td>\n",
       "      <td>-82</td>\n",
       "      <td>10.914B</td>\n",
       "      <td>2.257B</td>\n",
       "      <td>18.758M</td>\n",
       "      <td>581</td>\n",
       "      <td>-47061</td>\n",
       "    </tr>\n",
       "    <tr>\n",
       "      <th>6</th>\n",
       "      <td>Chainlink</td>\n",
       "      <td>24</td>\n",
       "      <td>-4</td>\n",
       "      <td>10.344B</td>\n",
       "      <td>1.566B</td>\n",
       "      <td>431.01M</td>\n",
       "      <td>24</td>\n",
       "      <td>-72</td>\n",
       "    </tr>\n",
       "    <tr>\n",
       "      <th>7</th>\n",
       "      <td>HEX</td>\n",
       "      <td>0</td>\n",
       "      <td>0</td>\n",
       "      <td>9.863B</td>\n",
       "      <td>25.728M</td>\n",
       "      <td>173.411B</td>\n",
       "      <td>0</td>\n",
       "      <td>0</td>\n",
       "    </tr>\n",
       "    <tr>\n",
       "      <th>8</th>\n",
       "      <td>THETA</td>\n",
       "      <td>8</td>\n",
       "      <td>0</td>\n",
       "      <td>8.722B</td>\n",
       "      <td>790.173M</td>\n",
       "      <td>1B</td>\n",
       "      <td>8</td>\n",
       "      <td>8</td>\n",
       "    </tr>\n",
       "    <tr>\n",
       "      <th>9</th>\n",
       "      <td>VeChain</td>\n",
       "      <td>0</td>\n",
       "      <td>0</td>\n",
       "      <td>7.114B</td>\n",
       "      <td>1.136B</td>\n",
       "      <td>64.316B</td>\n",
       "      <td>0</td>\n",
       "      <td>0</td>\n",
       "    </tr>\n",
       "    <tr>\n",
       "      <th>10</th>\n",
       "      <td>FilecoinFutures</td>\n",
       "      <td>75</td>\n",
       "      <td>-14</td>\n",
       "      <td>5.881B</td>\n",
       "      <td>1.449B</td>\n",
       "      <td>77.533M</td>\n",
       "      <td>75</td>\n",
       "      <td>-975</td>\n",
       "    </tr>\n",
       "    <tr>\n",
       "      <th>11</th>\n",
       "      <td>EOS</td>\n",
       "      <td>4</td>\n",
       "      <td>0</td>\n",
       "      <td>4.752B</td>\n",
       "      <td>1.908B</td>\n",
       "      <td>954.064M</td>\n",
       "      <td>4</td>\n",
       "      <td>4</td>\n",
       "    </tr>\n",
       "  </tbody>\n",
       "</table>\n",
       "</div>"
      ],
      "text/plain": [
       "               Name  Price  Change MarketCap  Volume24    Supply  \\\n",
       "0          Ethereum   2504    -272      291B   34.171B  116.202M   \n",
       "1       BinanceCoin    348     -51   53.507B    3.442B  153.433M   \n",
       "2          Dogecoin      0       0   42.191B    3.609B  129.925B   \n",
       "3           USDCoin      1       0   23.058B    2.317B   23.052B   \n",
       "4           Uniswap     23      -3   13.441B  518.682M  575.107M   \n",
       "5                ss    581     -82   10.914B    2.257B   18.758M   \n",
       "6         Chainlink     24      -4   10.344B    1.566B   431.01M   \n",
       "7               HEX      0       0    9.863B   25.728M  173.411B   \n",
       "8             THETA      8       0    8.722B  790.173M        1B   \n",
       "9           VeChain      0       0    7.114B    1.136B   64.316B   \n",
       "10  FilecoinFutures     75     -14    5.881B    1.449B   77.533M   \n",
       "11              EOS      4       0    4.752B    1.908B  954.064M   \n",
       "\n",
       "    ChangeInPrice  AfterPrice  \n",
       "0            2504     -678584  \n",
       "1             348      -17400  \n",
       "2               0           0  \n",
       "3               1           1  \n",
       "4              23         -46  \n",
       "5             581      -47061  \n",
       "6              24         -72  \n",
       "7               0           0  \n",
       "8               8           8  \n",
       "9               0           0  \n",
       "10             75        -975  \n",
       "11              4           4  "
      ]
     },
     "execution_count": 85,
     "metadata": {},
     "output_type": "execute_result"
    }
   ],
   "source": [
    "data"
   ]
  },
  {
   "cell_type": "markdown",
   "id": "61b953da",
   "metadata": {},
   "source": [
    "## Filtering values"
   ]
  },
  {
   "cell_type": "code",
   "execution_count": 87,
   "id": "05d63be3",
   "metadata": {
    "collapsed": true
   },
   "outputs": [
    {
     "data": {
      "text/html": [
       "<div>\n",
       "<style scoped>\n",
       "    .dataframe tbody tr th:only-of-type {\n",
       "        vertical-align: middle;\n",
       "    }\n",
       "\n",
       "    .dataframe tbody tr th {\n",
       "        vertical-align: top;\n",
       "    }\n",
       "\n",
       "    .dataframe thead th {\n",
       "        text-align: right;\n",
       "    }\n",
       "</style>\n",
       "<table border=\"1\" class=\"dataframe\">\n",
       "  <thead>\n",
       "    <tr style=\"text-align: right;\">\n",
       "      <th></th>\n",
       "      <th>Name</th>\n",
       "      <th>Price</th>\n",
       "      <th>Change</th>\n",
       "      <th>MarketCap</th>\n",
       "      <th>Volume24</th>\n",
       "      <th>Supply</th>\n",
       "      <th>ChangeInPrice</th>\n",
       "      <th>AfterPrice</th>\n",
       "    </tr>\n",
       "  </thead>\n",
       "  <tbody>\n",
       "    <tr>\n",
       "      <th>0</th>\n",
       "      <td>Ethereum</td>\n",
       "      <td>2504</td>\n",
       "      <td>-272</td>\n",
       "      <td>291B</td>\n",
       "      <td>34.171B</td>\n",
       "      <td>116.202M</td>\n",
       "      <td>2504</td>\n",
       "      <td>-678584</td>\n",
       "    </tr>\n",
       "    <tr>\n",
       "      <th>1</th>\n",
       "      <td>BinanceCoin</td>\n",
       "      <td>348</td>\n",
       "      <td>-51</td>\n",
       "      <td>53.507B</td>\n",
       "      <td>3.442B</td>\n",
       "      <td>153.433M</td>\n",
       "      <td>348</td>\n",
       "      <td>-17400</td>\n",
       "    </tr>\n",
       "    <tr>\n",
       "      <th>5</th>\n",
       "      <td>ss</td>\n",
       "      <td>581</td>\n",
       "      <td>-82</td>\n",
       "      <td>10.914B</td>\n",
       "      <td>2.257B</td>\n",
       "      <td>18.758M</td>\n",
       "      <td>581</td>\n",
       "      <td>-47061</td>\n",
       "    </tr>\n",
       "  </tbody>\n",
       "</table>\n",
       "</div>"
      ],
      "text/plain": [
       "          Name  Price  Change MarketCap Volume24    Supply  ChangeInPrice  \\\n",
       "0     Ethereum   2504    -272      291B  34.171B  116.202M           2504   \n",
       "1  BinanceCoin    348     -51   53.507B   3.442B  153.433M            348   \n",
       "5           ss    581     -82   10.914B   2.257B   18.758M            581   \n",
       "\n",
       "   AfterPrice  \n",
       "0     -678584  \n",
       "1      -17400  \n",
       "5      -47061  "
      ]
     },
     "execution_count": 87,
     "metadata": {},
     "output_type": "execute_result"
    }
   ],
   "source": [
    "data[data[\"Price\"]>100]"
   ]
  },
  {
   "cell_type": "code",
   "execution_count": 89,
   "id": "1d500044",
   "metadata": {},
   "outputs": [
    {
     "data": {
      "text/html": [
       "<div>\n",
       "<style scoped>\n",
       "    .dataframe tbody tr th:only-of-type {\n",
       "        vertical-align: middle;\n",
       "    }\n",
       "\n",
       "    .dataframe tbody tr th {\n",
       "        vertical-align: top;\n",
       "    }\n",
       "\n",
       "    .dataframe thead th {\n",
       "        text-align: right;\n",
       "    }\n",
       "</style>\n",
       "<table border=\"1\" class=\"dataframe\">\n",
       "  <thead>\n",
       "    <tr style=\"text-align: right;\">\n",
       "      <th></th>\n",
       "      <th>Name</th>\n",
       "      <th>Price</th>\n",
       "      <th>Change</th>\n",
       "      <th>MarketCap</th>\n",
       "      <th>Volume24</th>\n",
       "      <th>Supply</th>\n",
       "      <th>ChangeInPrice</th>\n",
       "      <th>AfterPrice</th>\n",
       "    </tr>\n",
       "  </thead>\n",
       "  <tbody>\n",
       "    <tr>\n",
       "      <th>1</th>\n",
       "      <td>BinanceCoin</td>\n",
       "      <td>348</td>\n",
       "      <td>-51</td>\n",
       "      <td>53.507B</td>\n",
       "      <td>3.442B</td>\n",
       "      <td>153.433M</td>\n",
       "      <td>348</td>\n",
       "      <td>-17400</td>\n",
       "    </tr>\n",
       "  </tbody>\n",
       "</table>\n",
       "</div>"
      ],
      "text/plain": [
       "          Name  Price  Change MarketCap Volume24    Supply  ChangeInPrice  \\\n",
       "1  BinanceCoin    348     -51   53.507B   3.442B  153.433M            348   \n",
       "\n",
       "   AfterPrice  \n",
       "1      -17400  "
      ]
     },
     "execution_count": 89,
     "metadata": {},
     "output_type": "execute_result"
    }
   ],
   "source": [
    "data[(data[\"Price\"]>100) & (data[\"Name\"].str.contains(\"Coin\"))]"
   ]
  },
  {
   "cell_type": "code",
   "execution_count": 90,
   "id": "5e18538b",
   "metadata": {
    "collapsed": true
   },
   "outputs": [
    {
     "data": {
      "text/html": [
       "<div>\n",
       "<style scoped>\n",
       "    .dataframe tbody tr th:only-of-type {\n",
       "        vertical-align: middle;\n",
       "    }\n",
       "\n",
       "    .dataframe tbody tr th {\n",
       "        vertical-align: top;\n",
       "    }\n",
       "\n",
       "    .dataframe thead th {\n",
       "        text-align: right;\n",
       "    }\n",
       "</style>\n",
       "<table border=\"1\" class=\"dataframe\">\n",
       "  <thead>\n",
       "    <tr style=\"text-align: right;\">\n",
       "      <th></th>\n",
       "      <th>Name</th>\n",
       "      <th>Price</th>\n",
       "      <th>Change</th>\n",
       "      <th>MarketCap</th>\n",
       "      <th>Volume24</th>\n",
       "      <th>Supply</th>\n",
       "      <th>ChangeInPrice</th>\n",
       "      <th>AfterPrice</th>\n",
       "    </tr>\n",
       "  </thead>\n",
       "  <tbody>\n",
       "    <tr>\n",
       "      <th>0</th>\n",
       "      <td>Ethereum</td>\n",
       "      <td>2504</td>\n",
       "      <td>-272</td>\n",
       "      <td>291B</td>\n",
       "      <td>34.171B</td>\n",
       "      <td>116.202M</td>\n",
       "      <td>2504</td>\n",
       "      <td>-678584</td>\n",
       "    </tr>\n",
       "    <tr>\n",
       "      <th>1</th>\n",
       "      <td>BinanceCoin</td>\n",
       "      <td>348</td>\n",
       "      <td>-51</td>\n",
       "      <td>53.507B</td>\n",
       "      <td>3.442B</td>\n",
       "      <td>153.433M</td>\n",
       "      <td>348</td>\n",
       "      <td>-17400</td>\n",
       "    </tr>\n",
       "    <tr>\n",
       "      <th>4</th>\n",
       "      <td>Uniswap</td>\n",
       "      <td>23</td>\n",
       "      <td>-3</td>\n",
       "      <td>13.441B</td>\n",
       "      <td>518.682M</td>\n",
       "      <td>575.107M</td>\n",
       "      <td>23</td>\n",
       "      <td>-46</td>\n",
       "    </tr>\n",
       "    <tr>\n",
       "      <th>5</th>\n",
       "      <td>ss</td>\n",
       "      <td>581</td>\n",
       "      <td>-82</td>\n",
       "      <td>10.914B</td>\n",
       "      <td>2.257B</td>\n",
       "      <td>18.758M</td>\n",
       "      <td>581</td>\n",
       "      <td>-47061</td>\n",
       "    </tr>\n",
       "    <tr>\n",
       "      <th>6</th>\n",
       "      <td>Chainlink</td>\n",
       "      <td>24</td>\n",
       "      <td>-4</td>\n",
       "      <td>10.344B</td>\n",
       "      <td>1.566B</td>\n",
       "      <td>431.01M</td>\n",
       "      <td>24</td>\n",
       "      <td>-72</td>\n",
       "    </tr>\n",
       "    <tr>\n",
       "      <th>10</th>\n",
       "      <td>FilecoinFutures</td>\n",
       "      <td>75</td>\n",
       "      <td>-14</td>\n",
       "      <td>5.881B</td>\n",
       "      <td>1.449B</td>\n",
       "      <td>77.533M</td>\n",
       "      <td>75</td>\n",
       "      <td>-975</td>\n",
       "    </tr>\n",
       "  </tbody>\n",
       "</table>\n",
       "</div>"
      ],
      "text/plain": [
       "               Name  Price  Change MarketCap  Volume24    Supply  \\\n",
       "0          Ethereum   2504    -272      291B   34.171B  116.202M   \n",
       "1       BinanceCoin    348     -51   53.507B    3.442B  153.433M   \n",
       "4           Uniswap     23      -3   13.441B  518.682M  575.107M   \n",
       "5                ss    581     -82   10.914B    2.257B   18.758M   \n",
       "6         Chainlink     24      -4   10.344B    1.566B   431.01M   \n",
       "10  FilecoinFutures     75     -14    5.881B    1.449B   77.533M   \n",
       "\n",
       "    ChangeInPrice  AfterPrice  \n",
       "0            2504     -678584  \n",
       "1             348      -17400  \n",
       "4              23         -46  \n",
       "5             581      -47061  \n",
       "6              24         -72  \n",
       "10             75        -975  "
      ]
     },
     "execution_count": 90,
     "metadata": {},
     "output_type": "execute_result"
    }
   ],
   "source": [
    "data[(data[\"Price\"]>100) | (data[\"Change\"]<0)]"
   ]
  },
  {
   "cell_type": "markdown",
   "id": "2366f90a",
   "metadata": {},
   "source": [
    "## Interpreting DataFrame\n"
   ]
  },
  {
   "cell_type": "code",
   "execution_count": 101,
   "id": "6535270f",
   "metadata": {
    "collapsed": true
   },
   "outputs": [
    {
     "name": "stdout",
     "output_type": "stream",
     "text": [
      "<class 'pandas.core.frame.DataFrame'>\n",
      "RangeIndex: 12 entries, 0 to 11\n",
      "Data columns (total 8 columns):\n",
      " #   Column         Non-Null Count  Dtype \n",
      "---  ------         --------------  ----- \n",
      " 0   Name           12 non-null     object\n",
      " 1   Price          12 non-null     int32 \n",
      " 2   Change         12 non-null     int32 \n",
      " 3   MarketCap      12 non-null     object\n",
      " 4   Volume24       12 non-null     object\n",
      " 5   Supply         12 non-null     object\n",
      " 6   ChangeInPrice  12 non-null     int64 \n",
      " 7   AfterPrice     12 non-null     int64 \n",
      "dtypes: int32(2), int64(2), object(4)\n",
      "memory usage: 800.0+ bytes\n"
     ]
    }
   ],
   "source": [
    "data.info()"
   ]
  },
  {
   "cell_type": "code",
   "execution_count": 103,
   "id": "9978a1ee",
   "metadata": {
    "collapsed": true
   },
   "outputs": [
    {
     "data": {
      "text/html": [
       "<div>\n",
       "<style scoped>\n",
       "    .dataframe tbody tr th:only-of-type {\n",
       "        vertical-align: middle;\n",
       "    }\n",
       "\n",
       "    .dataframe tbody tr th {\n",
       "        vertical-align: top;\n",
       "    }\n",
       "\n",
       "    .dataframe thead th {\n",
       "        text-align: right;\n",
       "    }\n",
       "</style>\n",
       "<table border=\"1\" class=\"dataframe\">\n",
       "  <thead>\n",
       "    <tr style=\"text-align: right;\">\n",
       "      <th></th>\n",
       "      <th>Price</th>\n",
       "      <th>Change</th>\n",
       "      <th>ChangeInPrice</th>\n",
       "      <th>AfterPrice</th>\n",
       "    </tr>\n",
       "  </thead>\n",
       "  <tbody>\n",
       "    <tr>\n",
       "      <th>count</th>\n",
       "      <td>12.000000</td>\n",
       "      <td>12.000000</td>\n",
       "      <td>12.000000</td>\n",
       "      <td>12.000000</td>\n",
       "    </tr>\n",
       "    <tr>\n",
       "      <th>mean</th>\n",
       "      <td>297.333333</td>\n",
       "      <td>-35.500000</td>\n",
       "      <td>297.333333</td>\n",
       "      <td>-62010.416667</td>\n",
       "    </tr>\n",
       "    <tr>\n",
       "      <th>std</th>\n",
       "      <td>718.243227</td>\n",
       "      <td>78.859484</td>\n",
       "      <td>718.243227</td>\n",
       "      <td>194667.828850</td>\n",
       "    </tr>\n",
       "    <tr>\n",
       "      <th>min</th>\n",
       "      <td>0.000000</td>\n",
       "      <td>-272.000000</td>\n",
       "      <td>0.000000</td>\n",
       "      <td>-678584.000000</td>\n",
       "    </tr>\n",
       "    <tr>\n",
       "      <th>25%</th>\n",
       "      <td>0.750000</td>\n",
       "      <td>-23.250000</td>\n",
       "      <td>0.750000</td>\n",
       "      <td>-5081.250000</td>\n",
       "    </tr>\n",
       "    <tr>\n",
       "      <th>50%</th>\n",
       "      <td>15.500000</td>\n",
       "      <td>-1.500000</td>\n",
       "      <td>15.500000</td>\n",
       "      <td>-23.000000</td>\n",
       "    </tr>\n",
       "    <tr>\n",
       "      <th>75%</th>\n",
       "      <td>143.250000</td>\n",
       "      <td>0.000000</td>\n",
       "      <td>143.250000</td>\n",
       "      <td>0.250000</td>\n",
       "    </tr>\n",
       "    <tr>\n",
       "      <th>max</th>\n",
       "      <td>2504.000000</td>\n",
       "      <td>0.000000</td>\n",
       "      <td>2504.000000</td>\n",
       "      <td>8.000000</td>\n",
       "    </tr>\n",
       "  </tbody>\n",
       "</table>\n",
       "</div>"
      ],
      "text/plain": [
       "             Price      Change  ChangeInPrice     AfterPrice\n",
       "count    12.000000   12.000000      12.000000      12.000000\n",
       "mean    297.333333  -35.500000     297.333333  -62010.416667\n",
       "std     718.243227   78.859484     718.243227  194667.828850\n",
       "min       0.000000 -272.000000       0.000000 -678584.000000\n",
       "25%       0.750000  -23.250000       0.750000   -5081.250000\n",
       "50%      15.500000   -1.500000      15.500000     -23.000000\n",
       "75%     143.250000    0.000000     143.250000       0.250000\n",
       "max    2504.000000    0.000000    2504.000000       8.000000"
      ]
     },
     "execution_count": 103,
     "metadata": {},
     "output_type": "execute_result"
    }
   ],
   "source": [
    "data.describe()"
   ]
  },
  {
   "cell_type": "markdown",
   "id": "57688b14",
   "metadata": {},
   "source": [
    "## Visualising DataFrame"
   ]
  },
  {
   "cell_type": "code",
   "execution_count": 105,
   "id": "0ecc7454",
   "metadata": {
    "collapsed": true
   },
   "outputs": [
    {
     "data": {
      "image/png": "[encoded data removed]",
      "text/plain": [
       "<Figure size 432x288 with 1 Axes>"
      ]
     },
     "metadata": {
      "needs_background": "light"
     },
     "output_type": "display_data"
    }
   ],
   "source": [
    "import matplotlib.pyplot as plt\n",
    "data.plot(x=\"Name\",y=\"Price\", kind=\"bar\")\n",
    "plt.show()"
   ]
  },
  {
   "cell_type": "code",
   "execution_count": 106,
   "id": "f7b9d5f3",
   "metadata": {},
   "outputs": [
    {
     "data": {
      "text/plain": [
       "<AxesSubplot:>"
      ]
     },
     "execution_count": 106,
     "metadata": {},
     "output_type": "execute_result"
    },
    {
     "data": {
      "image/png": "[encoded data removed]",
      "text/plain": [
       "<Figure size 432x288 with 1 Axes>"
      ]
     },
     "metadata": {
      "needs_background": "light"
     },
     "output_type": "display_data"
    }
   ],
   "source": [
    "data.plot.box()"
   ]
  },
  {
   "cell_type": "code",
   "execution_count": 107,
   "id": "f601354f",
   "metadata": {},
   "outputs": [
    {
     "data": {
      "text/plain": [
       "<AxesSubplot:>"
      ]
     },
     "execution_count": 107,
     "metadata": {},
     "output_type": "execute_result"
    },
    {
     "data": {
      "image/png": "[encoded data removed]",
      "text/plain": [
       "<Figure size 432x288 with 1 Axes>"
      ]
     },
     "metadata": {
      "needs_background": "light"
     },
     "output_type": "display_data"
    }
   ],
   "source": [
    "data.plot()"
   ]
  },
  {
   "cell_type": "code",
   "execution_count": null,
   "id": "c8d6660e",
   "metadata": {},
   "outputs": [],
   "source": []
  }
 ],
 "metadata": {
  "kernelspec": {
   "display_name": "Python 3",
   "language": "python",
   "name": "python3"
  },
  "language_info": {
   "codemirror_mode": {
    "name": "ipython",
    "version": 3
   },
   "file_extension": ".py",
   "mimetype": "text/x-python",
   "name": "python",
   "nbconvert_exporter": "python",
   "pygments_lexer": "ipython3",
   "version": "3.8.8"
  }
 },
 "nbformat": 4,
 "nbformat_minor": 5
}
